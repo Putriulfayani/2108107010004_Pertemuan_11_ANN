{
  "cells": [
    {
      "cell_type": "markdown",
      "metadata": {},
      "source": [
        "## Import Library"
      ]
    },
    {
      "cell_type": "code",
      "execution_count": 1,
      "metadata": {},
      "outputs": [],
      "source": [
        "import numpy as np \n",
        "import pandas as pd\n",
        "import matplotlib.pyplot as plt\n",
        "import seaborn as sns"
      ]
    },
    {
      "cell_type": "code",
      "execution_count": 2,
      "metadata": {},
      "outputs": [
        {
          "data": {
            "text/html": [
              "<div>\n",
              "<style scoped>\n",
              "    .dataframe tbody tr th:only-of-type {\n",
              "        vertical-align: middle;\n",
              "    }\n",
              "\n",
              "    .dataframe tbody tr th {\n",
              "        vertical-align: top;\n",
              "    }\n",
              "\n",
              "    .dataframe thead th {\n",
              "        text-align: right;\n",
              "    }\n",
              "</style>\n",
              "<table border=\"1\" class=\"dataframe\">\n",
              "  <thead>\n",
              "    <tr style=\"text-align: right;\">\n",
              "      <th></th>\n",
              "      <th>no</th>\n",
              "      <th>model</th>\n",
              "      <th>tahun</th>\n",
              "      <th>harga</th>\n",
              "      <th>transmisi</th>\n",
              "      <th>jarak_tempuh</th>\n",
              "      <th>bahan_bakar</th>\n",
              "      <th>pajak</th>\n",
              "      <th>mpg</th>\n",
              "      <th>ukuran_mesin</th>\n",
              "    </tr>\n",
              "  </thead>\n",
              "  <tbody>\n",
              "    <tr>\n",
              "      <th>0</th>\n",
              "      <td>1</td>\n",
              "      <td>Mitsubishi</td>\n",
              "      <td>1870</td>\n",
              "      <td>290000000</td>\n",
              "      <td>Manual</td>\n",
              "      <td>27499</td>\n",
              "      <td>Petrol/Gasoline/Bensin</td>\n",
              "      <td>1800000</td>\n",
              "      <td>28</td>\n",
              "      <td>1.8</td>\n",
              "    </tr>\n",
              "    <tr>\n",
              "      <th>1</th>\n",
              "      <td>2</td>\n",
              "      <td>Honda civic type R</td>\n",
              "      <td>2022</td>\n",
              "      <td>400000000</td>\n",
              "      <td>Manual</td>\n",
              "      <td>20000</td>\n",
              "      <td>Diesel/Solar</td>\n",
              "      <td>150000</td>\n",
              "      <td>25</td>\n",
              "      <td>1.2</td>\n",
              "    </tr>\n",
              "    <tr>\n",
              "      <th>2</th>\n",
              "      <td>3</td>\n",
              "      <td>Toyota Innova V</td>\n",
              "      <td>2017</td>\n",
              "      <td>370000000</td>\n",
              "      <td>Manual</td>\n",
              "      <td>5000000</td>\n",
              "      <td>Petrol/Gasoline/Bensin</td>\n",
              "      <td>2000000</td>\n",
              "      <td>28</td>\n",
              "      <td>1.8</td>\n",
              "    </tr>\n",
              "    <tr>\n",
              "      <th>3</th>\n",
              "      <td>4</td>\n",
              "      <td>Toyota Agya</td>\n",
              "      <td>2020</td>\n",
              "      <td>136000000</td>\n",
              "      <td>Manual</td>\n",
              "      <td>24089</td>\n",
              "      <td>Petrol/Gasoline/Bensin</td>\n",
              "      <td>1725250</td>\n",
              "      <td>20</td>\n",
              "      <td>1.0</td>\n",
              "    </tr>\n",
              "    <tr>\n",
              "      <th>4</th>\n",
              "      <td>5</td>\n",
              "      <td>Toyota Agya</td>\n",
              "      <td>2017</td>\n",
              "      <td>200000000</td>\n",
              "      <td>Manual</td>\n",
              "      <td>19400</td>\n",
              "      <td>Petrol/Gasoline/Bensin</td>\n",
              "      <td>1200000</td>\n",
              "      <td>22</td>\n",
              "      <td>1.2</td>\n",
              "    </tr>\n",
              "  </tbody>\n",
              "</table>\n",
              "</div>"
            ],
            "text/plain": [
              "   no               model  tahun      harga transmisi  jarak_tempuh  \\\n",
              "0   1          Mitsubishi   1870  290000000    Manual         27499   \n",
              "1   2  Honda civic type R   2022  400000000    Manual         20000   \n",
              "2   3     Toyota Innova V   2017  370000000    Manual       5000000   \n",
              "3   4         Toyota Agya   2020  136000000    Manual         24089   \n",
              "4   5         Toyota Agya   2017  200000000    Manual         19400   \n",
              "\n",
              "              bahan_bakar    pajak  mpg  ukuran_mesin  \n",
              "0  Petrol/Gasoline/Bensin  1800000   28           1.8  \n",
              "1            Diesel/Solar   150000   25           1.2  \n",
              "2  Petrol/Gasoline/Bensin  2000000   28           1.8  \n",
              "3  Petrol/Gasoline/Bensin  1725250   20           1.0  \n",
              "4  Petrol/Gasoline/Bensin  1200000   22           1.2  "
            ]
          },
          "execution_count": 2,
          "metadata": {},
          "output_type": "execute_result"
        }
      ],
      "source": [
        "# Baca dataset\n",
        "data_df = pd.read_csv(\"mmm.csv\")\n",
        "data_df.head()"
      ]
    },
    {
      "cell_type": "markdown",
      "metadata": {},
      "source": [
        "## Preprocessing"
      ]
    },
    {
      "cell_type": "code",
      "execution_count": 3,
      "metadata": {},
      "outputs": [
        {
          "name": "stdout",
          "output_type": "stream",
          "text": [
            "<class 'pandas.core.frame.DataFrame'>\n",
            "RangeIndex: 160 entries, 0 to 159\n",
            "Data columns (total 10 columns):\n",
            " #   Column        Non-Null Count  Dtype  \n",
            "---  ------        --------------  -----  \n",
            " 0   no            160 non-null    int64  \n",
            " 1   model         160 non-null    object \n",
            " 2   tahun         160 non-null    int64  \n",
            " 3   harga         160 non-null    int64  \n",
            " 4   transmisi     160 non-null    object \n",
            " 5   jarak_tempuh  160 non-null    int64  \n",
            " 6   bahan_bakar   160 non-null    object \n",
            " 7   pajak         160 non-null    int64  \n",
            " 8   mpg           160 non-null    int64  \n",
            " 9   ukuran_mesin  160 non-null    float64\n",
            "dtypes: float64(1), int64(6), object(3)\n",
            "memory usage: 12.6+ KB\n"
          ]
        }
      ],
      "source": [
        "# informasi umum kolom pada dataset\n",
        "data_df.info()"
      ]
    },
    {
      "cell_type": "code",
      "execution_count": 4,
      "metadata": {},
      "outputs": [
        {
          "data": {
            "text/html": [
              "<div>\n",
              "<style scoped>\n",
              "    .dataframe tbody tr th:only-of-type {\n",
              "        vertical-align: middle;\n",
              "    }\n",
              "\n",
              "    .dataframe tbody tr th {\n",
              "        vertical-align: top;\n",
              "    }\n",
              "\n",
              "    .dataframe thead th {\n",
              "        text-align: right;\n",
              "    }\n",
              "</style>\n",
              "<table border=\"1\" class=\"dataframe\">\n",
              "  <thead>\n",
              "    <tr style=\"text-align: right;\">\n",
              "      <th></th>\n",
              "      <th>no</th>\n",
              "      <th>model</th>\n",
              "      <th>tahun</th>\n",
              "      <th>harga</th>\n",
              "      <th>transmisi</th>\n",
              "      <th>jarak_tempuh</th>\n",
              "      <th>bahan_bakar</th>\n",
              "      <th>pajak</th>\n",
              "      <th>mpg</th>\n",
              "      <th>ukuran_mesin</th>\n",
              "    </tr>\n",
              "  </thead>\n",
              "  <tbody>\n",
              "  </tbody>\n",
              "</table>\n",
              "</div>"
            ],
            "text/plain": [
              "Empty DataFrame\n",
              "Columns: [no, model, tahun, harga, transmisi, jarak_tempuh, bahan_bakar, pajak, mpg, ukuran_mesin]\n",
              "Index: []"
            ]
          },
          "execution_count": 4,
          "metadata": {},
          "output_type": "execute_result"
        }
      ],
      "source": [
        "#Checking Duplicates\n",
        "data_duplicates_rows=data_df[data_df.duplicated()]\n",
        "data_duplicates_rows"
      ]
    },
    {
      "cell_type": "code",
      "execution_count": 5,
      "metadata": {},
      "outputs": [
        {
          "data": {
            "text/html": [
              "<div>\n",
              "<style scoped>\n",
              "    .dataframe tbody tr th:only-of-type {\n",
              "        vertical-align: middle;\n",
              "    }\n",
              "\n",
              "    .dataframe tbody tr th {\n",
              "        vertical-align: top;\n",
              "    }\n",
              "\n",
              "    .dataframe thead th {\n",
              "        text-align: right;\n",
              "    }\n",
              "</style>\n",
              "<table border=\"1\" class=\"dataframe\">\n",
              "  <thead>\n",
              "    <tr style=\"text-align: right;\">\n",
              "      <th></th>\n",
              "      <th>no</th>\n",
              "      <th>model</th>\n",
              "      <th>tahun</th>\n",
              "      <th>harga</th>\n",
              "      <th>transmisi</th>\n",
              "      <th>jarak_tempuh</th>\n",
              "      <th>bahan_bakar</th>\n",
              "      <th>pajak</th>\n",
              "      <th>mpg</th>\n",
              "      <th>ukuran_mesin</th>\n",
              "    </tr>\n",
              "  </thead>\n",
              "  <tbody>\n",
              "    <tr>\n",
              "      <th>0</th>\n",
              "      <td>1</td>\n",
              "      <td>Mitsubishi</td>\n",
              "      <td>1870</td>\n",
              "      <td>290000000</td>\n",
              "      <td>Manual</td>\n",
              "      <td>27499</td>\n",
              "      <td>Petrol/Gasoline/Bensin</td>\n",
              "      <td>1800000</td>\n",
              "      <td>28</td>\n",
              "      <td>1.8</td>\n",
              "    </tr>\n",
              "    <tr>\n",
              "      <th>1</th>\n",
              "      <td>2</td>\n",
              "      <td>Honda civic type R</td>\n",
              "      <td>2022</td>\n",
              "      <td>400000000</td>\n",
              "      <td>Manual</td>\n",
              "      <td>20000</td>\n",
              "      <td>Diesel/Solar</td>\n",
              "      <td>150000</td>\n",
              "      <td>25</td>\n",
              "      <td>1.2</td>\n",
              "    </tr>\n",
              "    <tr>\n",
              "      <th>2</th>\n",
              "      <td>3</td>\n",
              "      <td>Toyota Innova V</td>\n",
              "      <td>2017</td>\n",
              "      <td>370000000</td>\n",
              "      <td>Manual</td>\n",
              "      <td>5000000</td>\n",
              "      <td>Petrol/Gasoline/Bensin</td>\n",
              "      <td>2000000</td>\n",
              "      <td>28</td>\n",
              "      <td>1.8</td>\n",
              "    </tr>\n",
              "    <tr>\n",
              "      <th>3</th>\n",
              "      <td>4</td>\n",
              "      <td>Toyota Agya</td>\n",
              "      <td>2020</td>\n",
              "      <td>136000000</td>\n",
              "      <td>Manual</td>\n",
              "      <td>24089</td>\n",
              "      <td>Petrol/Gasoline/Bensin</td>\n",
              "      <td>1725250</td>\n",
              "      <td>20</td>\n",
              "      <td>1.0</td>\n",
              "    </tr>\n",
              "    <tr>\n",
              "      <th>4</th>\n",
              "      <td>5</td>\n",
              "      <td>Toyota Agya</td>\n",
              "      <td>2017</td>\n",
              "      <td>200000000</td>\n",
              "      <td>Manual</td>\n",
              "      <td>19400</td>\n",
              "      <td>Petrol/Gasoline/Bensin</td>\n",
              "      <td>1200000</td>\n",
              "      <td>22</td>\n",
              "      <td>1.2</td>\n",
              "    </tr>\n",
              "    <tr>\n",
              "      <th>...</th>\n",
              "      <td>...</td>\n",
              "      <td>...</td>\n",
              "      <td>...</td>\n",
              "      <td>...</td>\n",
              "      <td>...</td>\n",
              "      <td>...</td>\n",
              "      <td>...</td>\n",
              "      <td>...</td>\n",
              "      <td>...</td>\n",
              "      <td>...</td>\n",
              "    </tr>\n",
              "    <tr>\n",
              "      <th>155</th>\n",
              "      <td>156</td>\n",
              "      <td>Mitsubishi L300</td>\n",
              "      <td>2022</td>\n",
              "      <td>224000000</td>\n",
              "      <td>Manual</td>\n",
              "      <td>21000</td>\n",
              "      <td>Diesel/Solar</td>\n",
              "      <td>3200000</td>\n",
              "      <td>22</td>\n",
              "      <td>1.5</td>\n",
              "    </tr>\n",
              "    <tr>\n",
              "      <th>156</th>\n",
              "      <td>157</td>\n",
              "      <td>Daihatsu Grand Max Delvan</td>\n",
              "      <td>2018</td>\n",
              "      <td>148000000</td>\n",
              "      <td>Manual</td>\n",
              "      <td>20219</td>\n",
              "      <td>Petrol/Gasoline/Bensin</td>\n",
              "      <td>2000000</td>\n",
              "      <td>25</td>\n",
              "      <td>1.3</td>\n",
              "    </tr>\n",
              "    <tr>\n",
              "      <th>157</th>\n",
              "      <td>158</td>\n",
              "      <td>Isuzu Kijang Phanter</td>\n",
              "      <td>2016</td>\n",
              "      <td>287000000</td>\n",
              "      <td>Manual</td>\n",
              "      <td>8912</td>\n",
              "      <td>Diesel/Solar</td>\n",
              "      <td>3200000</td>\n",
              "      <td>30</td>\n",
              "      <td>2.0</td>\n",
              "    </tr>\n",
              "    <tr>\n",
              "      <th>158</th>\n",
              "      <td>159</td>\n",
              "      <td>Toyota Avanza</td>\n",
              "      <td>2011</td>\n",
              "      <td>295000000</td>\n",
              "      <td>Automatic</td>\n",
              "      <td>28335</td>\n",
              "      <td>Petrol/Gasoline/Bensin</td>\n",
              "      <td>2000000</td>\n",
              "      <td>23</td>\n",
              "      <td>1.3</td>\n",
              "    </tr>\n",
              "    <tr>\n",
              "      <th>159</th>\n",
              "      <td>160</td>\n",
              "      <td>Toyota Hilux Single Cap</td>\n",
              "      <td>2017</td>\n",
              "      <td>208800000</td>\n",
              "      <td>Manual</td>\n",
              "      <td>10089</td>\n",
              "      <td>Petrol/Gasoline/Bensin</td>\n",
              "      <td>3800000</td>\n",
              "      <td>30</td>\n",
              "      <td>2.0</td>\n",
              "    </tr>\n",
              "  </tbody>\n",
              "</table>\n",
              "<p>160 rows × 10 columns</p>\n",
              "</div>"
            ],
            "text/plain": [
              "      no                      model  tahun      harga  transmisi  \\\n",
              "0      1                 Mitsubishi   1870  290000000     Manual   \n",
              "1      2         Honda civic type R   2022  400000000     Manual   \n",
              "2      3            Toyota Innova V   2017  370000000     Manual   \n",
              "3      4                Toyota Agya   2020  136000000     Manual   \n",
              "4      5                Toyota Agya   2017  200000000     Manual   \n",
              "..   ...                        ...    ...        ...        ...   \n",
              "155  156            Mitsubishi L300   2022  224000000     Manual   \n",
              "156  157  Daihatsu Grand Max Delvan   2018  148000000     Manual   \n",
              "157  158       Isuzu Kijang Phanter   2016  287000000     Manual   \n",
              "158  159              Toyota Avanza   2011  295000000  Automatic   \n",
              "159  160    Toyota Hilux Single Cap   2017  208800000     Manual   \n",
              "\n",
              "     jarak_tempuh             bahan_bakar    pajak  mpg  ukuran_mesin  \n",
              "0           27499  Petrol/Gasoline/Bensin  1800000   28           1.8  \n",
              "1           20000            Diesel/Solar   150000   25           1.2  \n",
              "2         5000000  Petrol/Gasoline/Bensin  2000000   28           1.8  \n",
              "3           24089  Petrol/Gasoline/Bensin  1725250   20           1.0  \n",
              "4           19400  Petrol/Gasoline/Bensin  1200000   22           1.2  \n",
              "..            ...                     ...      ...  ...           ...  \n",
              "155         21000            Diesel/Solar  3200000   22           1.5  \n",
              "156         20219  Petrol/Gasoline/Bensin  2000000   25           1.3  \n",
              "157          8912            Diesel/Solar  3200000   30           2.0  \n",
              "158         28335  Petrol/Gasoline/Bensin  2000000   23           1.3  \n",
              "159         10089  Petrol/Gasoline/Bensin  3800000   30           2.0  \n",
              "\n",
              "[160 rows x 10 columns]"
            ]
          },
          "execution_count": 5,
          "metadata": {},
          "output_type": "execute_result"
        }
      ],
      "source": [
        "#Removing Duplicates in any\n",
        "data_df=data_df.drop_duplicates()\n",
        "data_df"
      ]
    },
    {
      "cell_type": "code",
      "execution_count": 6,
      "metadata": {},
      "outputs": [
        {
          "name": "stdout",
          "output_type": "stream",
          "text": [
            "<class 'pandas.core.frame.DataFrame'>\n",
            "RangeIndex: 160 entries, 0 to 159\n",
            "Data columns (total 10 columns):\n",
            " #   Column        Non-Null Count  Dtype  \n",
            "---  ------        --------------  -----  \n",
            " 0   no            160 non-null    int64  \n",
            " 1   model         160 non-null    object \n",
            " 2   tahun         160 non-null    int64  \n",
            " 3   harga         160 non-null    int64  \n",
            " 4   transmisi     160 non-null    object \n",
            " 5   jarak_tempuh  160 non-null    int64  \n",
            " 6   bahan_bakar   160 non-null    object \n",
            " 7   pajak         160 non-null    int64  \n",
            " 8   mpg           160 non-null    int64  \n",
            " 9   ukuran_mesin  160 non-null    float64\n",
            "dtypes: float64(1), int64(6), object(3)\n",
            "memory usage: 12.6+ KB\n"
          ]
        }
      ],
      "source": [
        "# informasi umum kolom pada dataset\n",
        "data_df.info()"
      ]
    },
    {
      "cell_type": "code",
      "execution_count": 7,
      "metadata": {},
      "outputs": [
        {
          "name": "stdout",
          "output_type": "stream",
          "text": [
            "   no  tahun      harga  jarak_tempuh    pajak  mpg\n",
            "0   1   1870  290000000         27499  1800000   28\n",
            "1   2   2022  400000000         20000   150000   25\n",
            "2   3   2017  370000000       5000000  2000000   28\n",
            "3   4   2020  136000000         24089  1725250   20\n",
            "4   5   2017  200000000         19400  1200000   22\n"
          ]
        }
      ],
      "source": [
        "# Menghapus kolom 'model', 'transmisi', 'bahan_bakar', dan 'ukuran_mesin'\n",
        "data_df.drop(['model', 'transmisi', 'bahan_bakar', 'ukuran_mesin'], axis=1, inplace=True)\n",
        "\n",
        "# Menampilkan DataFrame setelah penghapusan kolom\n",
        "print(data_df.head())\n"
      ]
    },
    {
      "cell_type": "code",
      "execution_count": 8,
      "metadata": {},
      "outputs": [
        {
          "data": {
            "text/html": [
              "<div>\n",
              "<style scoped>\n",
              "    .dataframe tbody tr th:only-of-type {\n",
              "        vertical-align: middle;\n",
              "    }\n",
              "\n",
              "    .dataframe tbody tr th {\n",
              "        vertical-align: top;\n",
              "    }\n",
              "\n",
              "    .dataframe thead th {\n",
              "        text-align: right;\n",
              "    }\n",
              "</style>\n",
              "<table border=\"1\" class=\"dataframe\">\n",
              "  <thead>\n",
              "    <tr style=\"text-align: right;\">\n",
              "      <th></th>\n",
              "      <th>count</th>\n",
              "      <th>mean</th>\n",
              "      <th>std</th>\n",
              "      <th>min</th>\n",
              "      <th>25%</th>\n",
              "      <th>50%</th>\n",
              "      <th>75%</th>\n",
              "      <th>max</th>\n",
              "    </tr>\n",
              "  </thead>\n",
              "  <tbody>\n",
              "    <tr>\n",
              "      <th>no</th>\n",
              "      <td>160.0</td>\n",
              "      <td>8.050000e+01</td>\n",
              "      <td>4.633213e+01</td>\n",
              "      <td>1.0</td>\n",
              "      <td>4.075000e+01</td>\n",
              "      <td>80.5</td>\n",
              "      <td>1.202500e+02</td>\n",
              "      <td>1.600000e+02</td>\n",
              "    </tr>\n",
              "    <tr>\n",
              "      <th>tahun</th>\n",
              "      <td>160.0</td>\n",
              "      <td>2.014450e+03</td>\n",
              "      <td>1.212036e+01</td>\n",
              "      <td>1870.0</td>\n",
              "      <td>2.013000e+03</td>\n",
              "      <td>2016.0</td>\n",
              "      <td>2.018000e+03</td>\n",
              "      <td>2.023000e+03</td>\n",
              "    </tr>\n",
              "    <tr>\n",
              "      <th>harga</th>\n",
              "      <td>160.0</td>\n",
              "      <td>1.686450e+08</td>\n",
              "      <td>1.811359e+08</td>\n",
              "      <td>147.0</td>\n",
              "      <td>1.072500e+08</td>\n",
              "      <td>132000000.0</td>\n",
              "      <td>1.863500e+08</td>\n",
              "      <td>2.147484e+09</td>\n",
              "    </tr>\n",
              "    <tr>\n",
              "      <th>jarak_tempuh</th>\n",
              "      <td>160.0</td>\n",
              "      <td>1.195561e+05</td>\n",
              "      <td>3.964340e+05</td>\n",
              "      <td>1020.0</td>\n",
              "      <td>3.038400e+04</td>\n",
              "      <td>70290.0</td>\n",
              "      <td>1.120000e+05</td>\n",
              "      <td>5.000000e+06</td>\n",
              "    </tr>\n",
              "    <tr>\n",
              "      <th>pajak</th>\n",
              "      <td>160.0</td>\n",
              "      <td>2.610075e+06</td>\n",
              "      <td>1.288941e+06</td>\n",
              "      <td>145000.0</td>\n",
              "      <td>2.000000e+06</td>\n",
              "      <td>2475000.0</td>\n",
              "      <td>3.200000e+06</td>\n",
              "      <td>9.431000e+06</td>\n",
              "    </tr>\n",
              "    <tr>\n",
              "      <th>mpg</th>\n",
              "      <td>160.0</td>\n",
              "      <td>2.527500e+01</td>\n",
              "      <td>4.164767e+00</td>\n",
              "      <td>20.0</td>\n",
              "      <td>2.200000e+01</td>\n",
              "      <td>25.0</td>\n",
              "      <td>2.500000e+01</td>\n",
              "      <td>4.200000e+01</td>\n",
              "    </tr>\n",
              "  </tbody>\n",
              "</table>\n",
              "</div>"
            ],
            "text/plain": [
              "              count          mean           std       min           25%  \\\n",
              "no            160.0  8.050000e+01  4.633213e+01       1.0  4.075000e+01   \n",
              "tahun         160.0  2.014450e+03  1.212036e+01    1870.0  2.013000e+03   \n",
              "harga         160.0  1.686450e+08  1.811359e+08     147.0  1.072500e+08   \n",
              "jarak_tempuh  160.0  1.195561e+05  3.964340e+05    1020.0  3.038400e+04   \n",
              "pajak         160.0  2.610075e+06  1.288941e+06  145000.0  2.000000e+06   \n",
              "mpg           160.0  2.527500e+01  4.164767e+00      20.0  2.200000e+01   \n",
              "\n",
              "                      50%           75%           max  \n",
              "no                   80.5  1.202500e+02  1.600000e+02  \n",
              "tahun              2016.0  2.018000e+03  2.023000e+03  \n",
              "harga         132000000.0  1.863500e+08  2.147484e+09  \n",
              "jarak_tempuh      70290.0  1.120000e+05  5.000000e+06  \n",
              "pajak           2475000.0  3.200000e+06  9.431000e+06  \n",
              "mpg                  25.0  2.500000e+01  4.200000e+01  "
            ]
          },
          "execution_count": 8,
          "metadata": {},
          "output_type": "execute_result"
        }
      ],
      "source": [
        "# informasi statistik dari dataset\n",
        "data_df.describe().T"
      ]
    },
    {
      "cell_type": "code",
      "execution_count": 9,
      "metadata": {},
      "outputs": [
        {
          "data": {
            "text/plain": [
              "no              0\n",
              "tahun           0\n",
              "harga           0\n",
              "jarak_tempuh    0\n",
              "pajak           0\n",
              "mpg             0\n",
              "dtype: int64"
            ]
          },
          "execution_count": 9,
          "metadata": {},
          "output_type": "execute_result"
        }
      ],
      "source": [
        "# cek apakah ada missing value pada dataset\n",
        "data_df.isnull().sum()"
      ]
    },
    {
      "cell_type": "code",
      "execution_count": 10,
      "metadata": {},
      "outputs": [
        {
          "data": {
            "image/png": "[encoded data removed]",
            "text/plain": [
              "<Figure size 800x600 with 1 Axes>"
            ]
          },
          "metadata": {},
          "output_type": "display_data"
        }
      ],
      "source": [
        "plt.figure(figsize=(8,6))\n",
        "plt.scatter(data_df['harga'], data_df['pajak'])\n",
        "plt.xlabel('harga')\n",
        "plt.ylabel('pajak ')\n",
        "plt.title('harga dan pajak')\n",
        "plt.grid(True)\n",
        "plt.show()"
      ]
    },
    {
      "cell_type": "code",
      "execution_count": 89,
      "metadata": {},
      "outputs": [
        {
          "data": {
            "image/png": "[encoded data removed]",
            "text/plain": [
              "<Figure size 576x432 with 1 Axes>"
            ]
          },
          "metadata": {
            "needs_background": "light"
          },
          "output_type": "display_data"
        }
      ],
      "source": [
        "plt.figure(figsize=(8,6))\n",
        "plt.scatter(data_df['harga'], data_df['tahun'])\n",
        "plt.xlabel('harga')\n",
        "plt.ylabel('tahun')\n",
        "plt.title('harga dan tahun')\n",
        "plt.grid(True)\n",
        "plt.show()"
      ]
    },
    {
      "cell_type": "markdown",
      "metadata": {},
      "source": [
        "### Split Dataset"
      ]
    },
    {
      "cell_type": "code",
      "execution_count": 11,
      "metadata": {},
      "outputs": [],
      "source": [
        "from sklearn.model_selection import train_test_split\n",
        "from sklearn.preprocessing import StandardScaler, OneHotEncoder\n",
        "from sklearn.compose import ColumnTransformer\n",
        "import pandas as pd\n",
        "\n",
        "# Inisialisasi Scaler\n",
        "scaler = StandardScaler() \n",
        "\n",
        "# Tentukan variabel independen dan dependen\n",
        "X = data_df.drop('harga', axis=1)\n",
        "y = data_df['harga']\n",
        "\n",
        "# Tentukan kolom yang merupakan variabel kategori\n",
        "categorical_cols = [col for col in X.columns if X[col].dtype == 'object']\n",
        "\n",
        "# Pipeline untuk transformasi data\n",
        "preprocessor = ColumnTransformer(\n",
        "    transformers=[\n",
        "        ('num', StandardScaler(), ~X[categorical_cols].columns),  # Scaling untuk variabel numerik\n",
        "        ('cat', OneHotEncoder(), categorical_cols)  # One-hot encoding untuk variabel kategori\n",
        "    ])\n",
        "\n",
        "# Skala data variabel independen\n",
        "X_scaled = preprocessor.fit_transform(X)\n",
        "\n",
        "# Pembagian dataset menjadi set pelatihan dan set pengujian\n",
        "X_train, X_test, y_train, y_test = train_test_split(X_scaled, y, test_size=0.2, random_state=42)\n",
        "\n",
        "from sklearn import metrics\n",
        "\n",
        "# Fungsi untuk menampilkan hasil evaluasi model\n",
        "def print_evaluate(true, predicted):  \n",
        "    mae = metrics.mean_absolute_error(true, predicted)\n",
        "    mse = metrics.mean_squared_error(true, predicted)\n",
        "    rmse = np.sqrt(metrics.mean_squared_error(true, predicted))\n",
        "    r2_square = metrics.r2_score(true, predicted)\n",
        "    print('MAE:', mae)\n",
        "    print('MSE:', mse)\n",
        "    print('RMSE:', rmse)\n",
        "    print('R2 Square', r2_square)\n"
      ]
    },
    {
      "cell_type": "markdown",
      "metadata": {},
      "source": [
        "## Membangun model"
      ]
    },
    {
      "cell_type": "code",
      "execution_count": 12,
      "metadata": {},
      "outputs": [],
      "source": [
        "import numpy as np\n",
        "from sklearn.model_selection import train_test_split\n",
        "from sklearn.preprocessing import StandardScaler\n",
        "from keras.models import Sequential\n",
        "from keras.layers import Dense\n",
        "from sklearn.metrics import mean_absolute_error, mean_squared_error, r2_score"
      ]
    },
    {
      "cell_type": "code",
      "execution_count": 15,
      "metadata": {},
      "outputs": [],
      "source": [
        "# Memisahkan data menjadi set pelatihan dan pengujian\n",
        "X_train, X_test, y_train, y_test = train_test_split(X, y, test_size=0.2, random_state=42)"
      ]
    },
    {
      "cell_type": "code",
      "execution_count": 16,
      "metadata": {},
      "outputs": [],
      "source": [
        "# Inisialisasi model ANN\n",
        "model = Sequential()"
      ]
    },
    {
      "cell_type": "code",
      "execution_count": 17,
      "metadata": {},
      "outputs": [
        {
          "name": "stderr",
          "output_type": "stream",
          "text": [
            "C:\\Users\\Windows X\\AppData\\Roaming\\Python\\Python311\\site-packages\\keras\\src\\layers\\core\\dense.py:86: UserWarning: Do not pass an `input_shape`/`input_dim` argument to a layer. When using Sequential models, prefer using an `Input(shape)` object as the first layer in the model instead.\n",
            "  super().__init__(activity_regularizer=activity_regularizer, **kwargs)\n"
          ]
        }
      ],
      "source": [
        "# Menambahkan input layer dan hidden layer\n",
        "model.add(Dense(units=6, activation='relu', input_dim=X_train.shape[1]))\n",
        "\n",
        "# Menambahkan output layer\n",
        "model.add(Dense(units=1, activation='linear'))\n",
        "\n",
        "# Compile model\n",
        "model.compile(optimizer='adam', loss='mean_squared_error')\n"
      ]
    },
    {
      "cell_type": "code",
      "execution_count": 18,
      "metadata": {},
      "outputs": [
        {
          "name": "stdout",
          "output_type": "stream",
          "text": [
            "Epoch 1/10\n",
            "\u001b[1m4/4\u001b[0m \u001b[32m━━━━━━━━━━━━━━━━━━━━\u001b[0m\u001b[37m\u001b[0m \u001b[1m1s\u001b[0m 6ms/step - loss: 69660482595717120.0000  \n",
            "Epoch 2/10\n",
            "\u001b[1m4/4\u001b[0m \u001b[32m━━━━━━━━━━━━━━━━━━━━\u001b[0m\u001b[37m\u001b[0m \u001b[1m0s\u001b[0m 4ms/step - loss: 98870026894835712.0000  \n",
            "Epoch 3/10\n",
            "\u001b[1m4/4\u001b[0m \u001b[32m━━━━━━━━━━━━━━━━━━━━\u001b[0m\u001b[37m\u001b[0m \u001b[1m0s\u001b[0m 0s/step - loss: 47724151879761920.0000  \n",
            "Epoch 4/10\n",
            "\u001b[1m4/4\u001b[0m \u001b[32m━━━━━━━━━━━━━━━━━━━━\u001b[0m\u001b[37m\u001b[0m \u001b[1m0s\u001b[0m 4ms/step - loss: 44836456388100096.0000 \n",
            "Epoch 5/10\n",
            "\u001b[1m4/4\u001b[0m \u001b[32m━━━━━━━━━━━━━━━━━━━━\u001b[0m\u001b[37m\u001b[0m \u001b[1m0s\u001b[0m 0s/step - loss: 68923882819551232.0000  \n",
            "Epoch 6/10\n",
            "\u001b[1m4/4\u001b[0m \u001b[32m━━━━━━━━━━━━━━━━━━━━\u001b[0m\u001b[37m\u001b[0m \u001b[1m0s\u001b[0m 6ms/step - loss: 74888793529778176.0000 \n",
            "Epoch 7/10\n",
            "\u001b[1m4/4\u001b[0m \u001b[32m━━━━━━━━━━━━━━━━━━━━\u001b[0m\u001b[37m\u001b[0m \u001b[1m0s\u001b[0m 2ms/step - loss: 60229576227291136.0000 \n",
            "Epoch 8/10\n",
            "\u001b[1m4/4\u001b[0m \u001b[32m━━━━━━━━━━━━━━━━━━━━\u001b[0m\u001b[37m\u001b[0m \u001b[1m0s\u001b[0m 0s/step - loss: 46345780910358528.0000  \n",
            "Epoch 9/10\n",
            "\u001b[1m4/4\u001b[0m \u001b[32m━━━━━━━━━━━━━━━━━━━━\u001b[0m\u001b[37m\u001b[0m \u001b[1m0s\u001b[0m 6ms/step - loss: 49347245790724096.0000 \n",
            "Epoch 10/10\n",
            "\u001b[1m4/4\u001b[0m \u001b[32m━━━━━━━━━━━━━━━━━━━━\u001b[0m\u001b[37m\u001b[0m \u001b[1m0s\u001b[0m 5ms/step - loss: 54816530159894528.0000  \n"
          ]
        },
        {
          "data": {
            "text/plain": [
              "<keras.src.callbacks.history.History at 0x175b2661b10>"
            ]
          },
          "execution_count": 18,
          "metadata": {},
          "output_type": "execute_result"
        }
      ],
      "source": [
        "# Melatih model\n",
        "model.fit(X_train, y_train, epochs=10, batch_size=32, verbose=1)"
      ]
    },
    {
      "cell_type": "code",
      "execution_count": 19,
      "metadata": {},
      "outputs": [
        {
          "name": "stdout",
          "output_type": "stream",
          "text": [
            "\u001b[1m1/1\u001b[0m \u001b[32m━━━━━━━━━━━━━━━━━━━━\u001b[0m\u001b[37m\u001b[0m \u001b[1m0s\u001b[0m 61ms/step\n"
          ]
        }
      ],
      "source": [
        "# Melakukan prediksi pada data testing\n",
        "y_pred = model.predict(X_test)"
      ]
    },
    {
      "cell_type": "code",
      "execution_count": 20,
      "metadata": {},
      "outputs": [],
      "source": [
        "# Evaluasi model\n",
        "mae = mean_absolute_error(y_test, y_pred)\n",
        "mse = mean_squared_error(y_test, y_pred)\n",
        "rmse = np.sqrt(mse)\n",
        "r2 = r2_score(y_test, y_pred)"
      ]
    },
    {
      "cell_type": "code",
      "execution_count": 21,
      "metadata": {},
      "outputs": [
        {
          "name": "stdout",
          "output_type": "stream",
          "text": [
            "Hasil evaluasi untuk Artificial Neural Network:\n",
            "MAE: 149797795.83203125\n",
            "MSE: 2.8406582248578716e+16\n",
            "RMSE: 168542523.56179646\n",
            "R2 Square: -3.742638427101884\n"
          ]
        }
      ],
      "source": [
        "# Menampilkan hasil evaluasi\n",
        "print(\"Hasil evaluasi untuk Artificial Neural Network:\")\n",
        "print(\"MAE:\", mae)\n",
        "print(\"MSE:\", mse)\n",
        "print(\"RMSE:\", rmse)\n",
        "print(\"R2 Square:\", r2)"
      ]
    },
    {
      "cell_type": "code",
      "execution_count": null,
      "metadata": {},
      "outputs": [],
      "source": []
    }
  ],
  "metadata": {
    "colab": {
      "provenance": []
    },
    "kernelspec": {
      "display_name": "Python 3",
      "name": "python3"
    },
    "language_info": {
      "codemirror_mode": {
        "name": "ipython",
        "version": 3
      },
      "file_extension": ".py",
      "mimetype": "text/x-python",
      "name": "python",
      "nbconvert_exporter": "python",
      "pygments_lexer": "ipython3",
      "version": "3.11.5"
    }
  },
  "nbformat": 4,
  "nbformat_minor": 0
}
